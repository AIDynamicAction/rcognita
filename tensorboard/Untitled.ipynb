{
    "cells": [
        {
            "cell_type": "code",
            "execution_count": 8,
            "id": "1b20d9da",
            "metadata": {},
            "outputs": [],
            "source": [
                "import torch\n",
                "from torch import nn, optim\n",
                "import torch.nn.functional as F\n",
                "import numpy as np\n",
                "import torch.optim as optim\n",
                "\n",
                "import os, sys\n",
                "from torch.utils.tensorboard import SummaryWriter\n",
                "import torchvision\n",
                "import torchvision.transforms as transforms\n",
                "\n",
                "writer = SummaryWriter(\"runs/tensor_visualization_test_1\")\n",
                "\n",
                "PARENT_DIR = os.path.abspath(\"__file__\" + \"/../../\")\n",
                "sys.path.insert(0, PARENT_DIR)\n",
                "CUR_DIR = os.path.abspath(\"__file__\" + \"/..\")\n",
                "sys.path.insert(0, CUR_DIR)\n",
                "\n",
                "#from rcognita.objectives import RunningObjective\n",
                "\n",
                "#running_objective = RunningObjective(running_obj_model=\"quadratic\")\n",
                "\n",
                "\n",
                "\n"
            ]
        },
        {
            "cell_type": "code",
            "execution_count": 9,
            "id": "618730d0",
            "metadata": {},
            "outputs": [
                {
                    "name": "stdout",
                    "output_type": "stream",
                    "text": [
                        "[Parameter containing:\n",
                        "tensor([[-0.1858,  0.1895, -0.4341,  0.3522, -0.1956],\n",
                        "        [-0.0250,  0.4026, -0.0163,  0.2166,  0.2568],\n",
                        "        [-0.0382, -0.2872, -0.1190, -0.3581, -0.0155],\n",
                        "        [ 0.0593, -0.1189,  0.1174, -0.1454, -0.3595],\n",
                        "        [-0.3356,  0.0907, -0.3424,  0.3077, -0.0307]], dtype=torch.float64,\n",
                        "       requires_grad=True), Parameter containing:\n",
                        "tensor([[ 0.1815, -0.3175, -0.2123,  0.1307,  0.3886],\n",
                        "        [ 0.1496,  0.0634,  0.1710, -0.4094,  0.0477],\n",
                        "        [ 0.0630,  0.2838, -0.3854,  0.3038, -0.4136]], dtype=torch.float64,\n",
                        "       requires_grad=True)]\n",
                        "[Parameter containing:\n",
                        "tensor([[-2.0996e-01,  1.9319e-01, -4.2288e-01,  3.5043e-01, -1.9707e-01],\n",
                        "        [-3.9810e-02,  4.0499e-01, -9.4656e-03,  2.1576e-01,  2.5591e-01],\n",
                        "        [ 9.5464e+00, -2.0030e+00, -4.6112e+00, -2.1345e-01,  6.6961e-01],\n",
                        "        [-8.1429e+00,  1.4401e+00,  3.9779e+00, -8.3509e-02, -9.8167e-01],\n",
                        "        [-3.0118e-01,  8.4536e-02, -3.5851e-01,  3.0830e-01, -2.8303e-02]],\n",
                        "       dtype=torch.float64, requires_grad=True), Parameter containing:\n",
                        "tensor([[ 0.1835, -0.3110, -0.7871,  0.1715,  0.4076],\n",
                        "        [ 0.1457,  0.0585,  0.7370, -0.3367,  0.0385],\n",
                        "        [ 0.0664,  0.2950, -1.3713,  0.3721, -0.3811]], dtype=torch.float64,\n",
                        "       requires_grad=True)]\n",
                        "<bound method Module.parameters of ModelNN(\n",
                        "  (fc1): Linear(in_features=5, out_features=5, bias=False)\n",
                        "  (relu1): LeakyReLU(negative_slope=0.01)\n",
                        "  (fc2): Linear(in_features=5, out_features=3, bias=False)\n",
                        ")>\n"
                    ]
                }
            ],
            "source": [
                "class ModelNN(nn.Module):\n",
                "    def __init__(self, dim_observation, dim_action, dim_hidden=5, weights=None):\n",
                "        super().__init__()\n",
                "\n",
                "        self.model_name = \"NN\"\n",
                "        self.fc1 = nn.Linear(dim_observation + dim_action, dim_hidden, bias=False)\n",
                "        self.relu1 = nn.LeakyReLU()\n",
                "        self.fc2 = nn.Linear(dim_hidden, dim_observation, bias=False)\n",
                "\n",
                "        if weights is not None:\n",
                "            self.load_state_dict(weights)\n",
                "\n",
                "        self.double()\n",
                "\n",
                "    def forward(self, x, weights=None):\n",
                "        # print(\"x type\", type(x))\n",
                "\n",
                "        x = x.double()\n",
                "\n",
                "        x = self.fc1(x)\n",
                "        x = self.relu1(x)\n",
                "        x = self.fc2(x)\n",
                "        x = torch.linalg.vector_norm(x)\n",
                "\n",
                "        return x  # .detach().numpy()\n",
                "\n",
                "    def __call__(self, observation, action, weights=None):\n",
                "\n",
                "        concat = np.concatenate((observation, action))\n",
                "        to_torch = torch.tensor(concat)\n",
                "\n",
                "        if not weights is None:\n",
                "            state_dict = self.weights2dict(weights)\n",
                "            self.load_state_dict(state_dict)\n",
                "\n",
                "        return self.forward(to_torch)\n",
                "\n",
                "\n",
                "model = ModelNN(3, 2)\n",
                "\n",
                "input_tensor_1 = torch.randn(1, 5)\n",
                "input_tensor_2 = torch.randn(1, 5)\n",
                "\n",
                "optimizer = optim.SGD(model.parameters(), lr=0.01, momentum=0.8)\n",
                "\n",
                "print([x for x in model.parameters()])\n",
                "\n",
                "loss = model.forward(input_tensor_1) - model.forward(input_tensor_2)\n",
                "\n",
                "\n",
                "loss.backward()\n",
                "\n",
                "for _ in range(100):\n",
                "    optimizer.step()\n",
                "\n",
                "print([x for x in model.parameters()])\n",
                "print(model.parameters)"
            ]
        },
        {
            "cell_type": "code",
            "execution_count": 11,
            "id": "355f4a57",
            "metadata": {},
            "outputs": [
                {
                    "name": "stdout",
                    "output_type": "stream",
                    "text": [
                        "TensorFlow installation not found - running with reduced feature set.\n",
                        "\n",
                        "***** TensorBoard Uploader *****\n",
                        "\n",
                        "This will upload your TensorBoard logs to https://tensorboard.dev/ from\n",
                        "the following directory:\n",
                        "\n",
                        "runs\n",
                        "\n",
                        "This TensorBoard will be visible to everyone. Do not upload sensitive\n",
                        "data.\n",
                        "\n",
                        "Your use of this service is subject to Google's Terms of Service\n",
                        "<https://policies.google.com/terms> and Privacy Policy\n",
                        "<https://policies.google.com/privacy>, and TensorBoard.dev's Terms of Service\n",
                        "<https://tensorboard.dev/policy/terms/>.\n",
                        "\n",
                        "This notice will not be shown again while you are logged into the uploader.\n",
                        "To log out, run `tensorboard dev auth revoke`.\n",
                        "\n",
                        "Continue? (yes/NO) ^C\n",
                        "Traceback (most recent call last):\n",
                        "  File \"/home/odinmaniac/anaconda3/bin/tensorboard\", line 8, in <module>\n",
                        "    sys.exit(run_main())\n",
                        "  File \"/home/odinmaniac/anaconda3/lib/python3.9/site-packages/tensorboard/main.py\", line 46, in run_main\n",
                        "    app.run(tensorboard.main, flags_parser=tensorboard.configure)\n",
                        "  File \"/home/odinmaniac/anaconda3/lib/python3.9/site-packages/absl/app.py\", line 308, in run\n",
                        "    _run_main(main, args)\n",
                        "  File \"/home/odinmaniac/anaconda3/lib/python3.9/site-packages/absl/app.py\", line 254, in _run_main\n",
                        "    sys.exit(main(argv))\n",
                        "  File \"/home/odinmaniac/anaconda3/lib/python3.9/site-packages/tensorboard/program.py\", line 276, in main\n",
                        "    return runner(self.flags) or 0\n",
                        "  File \"/home/odinmaniac/anaconda3/lib/python3.9/site-packages/tensorboard/uploader/uploader_subcommand.py\", line 692, in run\n",
                        "    return _run(flags, self._experiment_url_callback)\n",
                        "  File \"/home/odinmaniac/anaconda3/lib/python3.9/site-packages/tensorboard/uploader/uploader_subcommand.py\", line 94, in _run\n",
                        "    _prompt_for_user_ack(intent)\n",
                        "  File \"/home/odinmaniac/anaconda3/lib/python3.9/site-packages/tensorboard/uploader/uploader_subcommand.py\", line 67, in _prompt_for_user_ack\n",
                        "    response = input(\"Continue? (yes/NO) \")\n",
                        "KeyboardInterrupt\n"
                    ]
                }
            ],
            "source": [
                "!tensorboard dev upload --logdir 'runs'"
            ]
        },
        {
            "cell_type": "code",
            "execution_count": 18,
            "id": "667fd969",
            "metadata": {},
            "outputs": [
                {
                    "name": "stdout",
                    "output_type": "stream",
                    "text": [
                        "mat1 and mat2 shapes cannot be multiplied (5x1 and 5x5)\n",
                        "Error occurs, No graph saved\n"
                    ]
                },
                {
                    "name": "stderr",
                    "output_type": "stream",
                    "text": [
                        "/tmp/ipykernel_909791/326118733.py:30: TracerWarning: torch.tensor results are registered as constants in the trace. You can safely ignore this warning if you use this function to create tensors out of constant variables that would be the same every time you call this function. In any other case, this might cause the trace to be incorrect.\n",
                        "  to_torch = torch.tensor(concat)\n"
                    ]
                },
                {
                    "ename": "RuntimeError",
                    "evalue": "mat1 and mat2 shapes cannot be multiplied (5x1 and 5x5)",
                    "output_type": "error",
                    "traceback": [
                        "\u001b[0;31m---------------------------------------------------------------------------\u001b[0m",
                        "\u001b[0;31mRuntimeError\u001b[0m                              Traceback (most recent call last)",
                        "\u001b[0;32m/tmp/ipykernel_909791/332961843.py\u001b[0m in \u001b[0;36m<module>\u001b[0;34m\u001b[0m\n\u001b[0;32m----> 1\u001b[0;31m \u001b[0mwriter\u001b[0m\u001b[0;34m.\u001b[0m\u001b[0madd_graph\u001b[0m\u001b[0;34m(\u001b[0m\u001b[0mmodel\u001b[0m\u001b[0;34m,\u001b[0m \u001b[0minput_to_model\u001b[0m\u001b[0;34m=\u001b[0m\u001b[0;34m[\u001b[0m\u001b[0mtorch\u001b[0m\u001b[0;34m.\u001b[0m\u001b[0mrandn\u001b[0m\u001b[0;34m(\u001b[0m\u001b[0;36m3\u001b[0m\u001b[0;34m,\u001b[0m \u001b[0;36m1\u001b[0m\u001b[0;34m)\u001b[0m\u001b[0;34m,\u001b[0m \u001b[0mtorch\u001b[0m\u001b[0;34m.\u001b[0m\u001b[0mrandn\u001b[0m\u001b[0;34m(\u001b[0m\u001b[0;36m2\u001b[0m\u001b[0;34m,\u001b[0m \u001b[0;36m1\u001b[0m\u001b[0;34m)\u001b[0m\u001b[0;34m]\u001b[0m\u001b[0;34m,\u001b[0m \u001b[0mverbose\u001b[0m\u001b[0;34m=\u001b[0m\u001b[0;32mFalse\u001b[0m\u001b[0;34m)\u001b[0m\u001b[0;34m\u001b[0m\u001b[0;34m\u001b[0m\u001b[0m\n\u001b[0m",
                        "\u001b[0;32m~/anaconda3/lib/python3.9/site-packages/torch/utils/tensorboard/writer.py\u001b[0m in \u001b[0;36madd_graph\u001b[0;34m(self, model, input_to_model, verbose, use_strict_trace)\u001b[0m\n\u001b[1;32m    838\u001b[0m             \u001b[0;31m# A valid Torch model should have a 'forward' method\u001b[0m\u001b[0;34m\u001b[0m\u001b[0;34m\u001b[0m\u001b[0m\n\u001b[1;32m    839\u001b[0m             self._get_file_writer().add_graph(\n\u001b[0;32m--> 840\u001b[0;31m                 \u001b[0mgraph\u001b[0m\u001b[0;34m(\u001b[0m\u001b[0mmodel\u001b[0m\u001b[0;34m,\u001b[0m \u001b[0minput_to_model\u001b[0m\u001b[0;34m,\u001b[0m \u001b[0mverbose\u001b[0m\u001b[0;34m,\u001b[0m \u001b[0muse_strict_trace\u001b[0m\u001b[0;34m)\u001b[0m\u001b[0;34m\u001b[0m\u001b[0;34m\u001b[0m\u001b[0m\n\u001b[0m\u001b[1;32m    841\u001b[0m             )\n\u001b[1;32m    842\u001b[0m         \u001b[0;32melse\u001b[0m\u001b[0;34m:\u001b[0m\u001b[0;34m\u001b[0m\u001b[0;34m\u001b[0m\u001b[0m\n",
                        "\u001b[0;32m~/anaconda3/lib/python3.9/site-packages/torch/utils/tensorboard/_pytorch_graph.py\u001b[0m in \u001b[0;36mgraph\u001b[0;34m(model, args, verbose, use_strict_trace)\u001b[0m\n\u001b[1;32m    342\u001b[0m             \u001b[0mprint\u001b[0m\u001b[0;34m(\u001b[0m\u001b[0me\u001b[0m\u001b[0;34m)\u001b[0m\u001b[0;34m\u001b[0m\u001b[0;34m\u001b[0m\u001b[0m\n\u001b[1;32m    343\u001b[0m             \u001b[0mprint\u001b[0m\u001b[0;34m(\u001b[0m\u001b[0;34m\"Error occurs, No graph saved\"\u001b[0m\u001b[0;34m)\u001b[0m\u001b[0;34m\u001b[0m\u001b[0;34m\u001b[0m\u001b[0m\n\u001b[0;32m--> 344\u001b[0;31m             \u001b[0;32mraise\u001b[0m \u001b[0me\u001b[0m\u001b[0;34m\u001b[0m\u001b[0;34m\u001b[0m\u001b[0m\n\u001b[0m\u001b[1;32m    345\u001b[0m \u001b[0;34m\u001b[0m\u001b[0m\n\u001b[1;32m    346\u001b[0m     \u001b[0;32mif\u001b[0m \u001b[0mverbose\u001b[0m\u001b[0;34m:\u001b[0m\u001b[0;34m\u001b[0m\u001b[0;34m\u001b[0m\u001b[0m\n",
                        "\u001b[0;32m~/anaconda3/lib/python3.9/site-packages/torch/utils/tensorboard/_pytorch_graph.py\u001b[0m in \u001b[0;36mgraph\u001b[0;34m(model, args, verbose, use_strict_trace)\u001b[0m\n\u001b[1;32m    336\u001b[0m     ):  # TODO: move outside of torch.onnx?\n\u001b[1;32m    337\u001b[0m         \u001b[0;32mtry\u001b[0m\u001b[0;34m:\u001b[0m\u001b[0;34m\u001b[0m\u001b[0;34m\u001b[0m\u001b[0m\n\u001b[0;32m--> 338\u001b[0;31m             \u001b[0mtrace\u001b[0m \u001b[0;34m=\u001b[0m \u001b[0mtorch\u001b[0m\u001b[0;34m.\u001b[0m\u001b[0mjit\u001b[0m\u001b[0;34m.\u001b[0m\u001b[0mtrace\u001b[0m\u001b[0;34m(\u001b[0m\u001b[0mmodel\u001b[0m\u001b[0;34m,\u001b[0m \u001b[0margs\u001b[0m\u001b[0;34m,\u001b[0m \u001b[0mstrict\u001b[0m\u001b[0;34m=\u001b[0m\u001b[0muse_strict_trace\u001b[0m\u001b[0;34m)\u001b[0m\u001b[0;34m\u001b[0m\u001b[0;34m\u001b[0m\u001b[0m\n\u001b[0m\u001b[1;32m    339\u001b[0m             \u001b[0mgraph\u001b[0m \u001b[0;34m=\u001b[0m \u001b[0mtrace\u001b[0m\u001b[0;34m.\u001b[0m\u001b[0mgraph\u001b[0m\u001b[0;34m\u001b[0m\u001b[0;34m\u001b[0m\u001b[0m\n\u001b[1;32m    340\u001b[0m             \u001b[0mtorch\u001b[0m\u001b[0;34m.\u001b[0m\u001b[0m_C\u001b[0m\u001b[0;34m.\u001b[0m\u001b[0m_jit_pass_inline\u001b[0m\u001b[0;34m(\u001b[0m\u001b[0mgraph\u001b[0m\u001b[0;34m)\u001b[0m\u001b[0;34m\u001b[0m\u001b[0;34m\u001b[0m\u001b[0m\n",
                        "\u001b[0;32m~/anaconda3/lib/python3.9/site-packages/torch/jit/_trace.py\u001b[0m in \u001b[0;36mtrace\u001b[0;34m(func, example_inputs, optimize, check_trace, check_inputs, check_tolerance, strict, _force_outplace, _module_class, _compilation_unit)\u001b[0m\n\u001b[1;32m    748\u001b[0m \u001b[0;34m\u001b[0m\u001b[0m\n\u001b[1;32m    749\u001b[0m     \u001b[0;32mif\u001b[0m \u001b[0misinstance\u001b[0m\u001b[0;34m(\u001b[0m\u001b[0mfunc\u001b[0m\u001b[0;34m,\u001b[0m \u001b[0mtorch\u001b[0m\u001b[0;34m.\u001b[0m\u001b[0mnn\u001b[0m\u001b[0;34m.\u001b[0m\u001b[0mModule\u001b[0m\u001b[0;34m)\u001b[0m\u001b[0;34m:\u001b[0m\u001b[0;34m\u001b[0m\u001b[0;34m\u001b[0m\u001b[0m\n\u001b[0;32m--> 750\u001b[0;31m         return trace_module(\n\u001b[0m\u001b[1;32m    751\u001b[0m             \u001b[0mfunc\u001b[0m\u001b[0;34m,\u001b[0m\u001b[0;34m\u001b[0m\u001b[0;34m\u001b[0m\u001b[0m\n\u001b[1;32m    752\u001b[0m             \u001b[0;34m{\u001b[0m\u001b[0;34m\"forward\"\u001b[0m\u001b[0;34m:\u001b[0m \u001b[0mexample_inputs\u001b[0m\u001b[0;34m}\u001b[0m\u001b[0;34m,\u001b[0m\u001b[0;34m\u001b[0m\u001b[0;34m\u001b[0m\u001b[0m\n",
                        "\u001b[0;32m~/anaconda3/lib/python3.9/site-packages/torch/jit/_trace.py\u001b[0m in \u001b[0;36mtrace_module\u001b[0;34m(mod, inputs, optimize, check_trace, check_inputs, check_tolerance, strict, _force_outplace, _module_class, _compilation_unit)\u001b[0m\n\u001b[1;32m    965\u001b[0m             \u001b[0mexample_inputs\u001b[0m \u001b[0;34m=\u001b[0m \u001b[0mmake_tuple\u001b[0m\u001b[0;34m(\u001b[0m\u001b[0mexample_inputs\u001b[0m\u001b[0;34m)\u001b[0m\u001b[0;34m\u001b[0m\u001b[0;34m\u001b[0m\u001b[0m\n\u001b[1;32m    966\u001b[0m \u001b[0;34m\u001b[0m\u001b[0m\n\u001b[0;32m--> 967\u001b[0;31m             module._c._create_method_from_trace(\n\u001b[0m\u001b[1;32m    968\u001b[0m                 \u001b[0mmethod_name\u001b[0m\u001b[0;34m,\u001b[0m\u001b[0;34m\u001b[0m\u001b[0;34m\u001b[0m\u001b[0m\n\u001b[1;32m    969\u001b[0m                 \u001b[0mfunc\u001b[0m\u001b[0;34m,\u001b[0m\u001b[0;34m\u001b[0m\u001b[0;34m\u001b[0m\u001b[0m\n",
                        "\u001b[0;32m/tmp/ipykernel_909791/326118733.py\u001b[0m in \u001b[0;36m__call__\u001b[0;34m(self, observation, action, weights)\u001b[0m\n\u001b[1;32m     34\u001b[0m             \u001b[0mself\u001b[0m\u001b[0;34m.\u001b[0m\u001b[0mload_state_dict\u001b[0m\u001b[0;34m(\u001b[0m\u001b[0mstate_dict\u001b[0m\u001b[0;34m)\u001b[0m\u001b[0;34m\u001b[0m\u001b[0;34m\u001b[0m\u001b[0m\n\u001b[1;32m     35\u001b[0m \u001b[0;34m\u001b[0m\u001b[0m\n\u001b[0;32m---> 36\u001b[0;31m         \u001b[0;32mreturn\u001b[0m \u001b[0mself\u001b[0m\u001b[0;34m.\u001b[0m\u001b[0mforward\u001b[0m\u001b[0;34m(\u001b[0m\u001b[0mto_torch\u001b[0m\u001b[0;34m)\u001b[0m\u001b[0;34m\u001b[0m\u001b[0;34m\u001b[0m\u001b[0m\n\u001b[0m\u001b[1;32m     37\u001b[0m \u001b[0;34m\u001b[0m\u001b[0m\n\u001b[1;32m     38\u001b[0m \u001b[0;34m\u001b[0m\u001b[0m\n",
                        "\u001b[0;32m/tmp/ipykernel_909791/326118733.py\u001b[0m in \u001b[0;36mforward\u001b[0;34m(self, x, weights)\u001b[0m\n\u001b[1;32m     18\u001b[0m         \u001b[0mx\u001b[0m \u001b[0;34m=\u001b[0m \u001b[0mx\u001b[0m\u001b[0;34m.\u001b[0m\u001b[0mdouble\u001b[0m\u001b[0;34m(\u001b[0m\u001b[0;34m)\u001b[0m\u001b[0;34m\u001b[0m\u001b[0;34m\u001b[0m\u001b[0m\n\u001b[1;32m     19\u001b[0m \u001b[0;34m\u001b[0m\u001b[0m\n\u001b[0;32m---> 20\u001b[0;31m         \u001b[0mx\u001b[0m \u001b[0;34m=\u001b[0m \u001b[0mself\u001b[0m\u001b[0;34m.\u001b[0m\u001b[0mfc1\u001b[0m\u001b[0;34m(\u001b[0m\u001b[0mx\u001b[0m\u001b[0;34m)\u001b[0m\u001b[0;34m\u001b[0m\u001b[0;34m\u001b[0m\u001b[0m\n\u001b[0m\u001b[1;32m     21\u001b[0m         \u001b[0mx\u001b[0m \u001b[0;34m=\u001b[0m \u001b[0mself\u001b[0m\u001b[0;34m.\u001b[0m\u001b[0mrelu1\u001b[0m\u001b[0;34m(\u001b[0m\u001b[0mx\u001b[0m\u001b[0;34m)\u001b[0m\u001b[0;34m\u001b[0m\u001b[0;34m\u001b[0m\u001b[0m\n\u001b[1;32m     22\u001b[0m         \u001b[0mx\u001b[0m \u001b[0;34m=\u001b[0m \u001b[0mself\u001b[0m\u001b[0;34m.\u001b[0m\u001b[0mfc2\u001b[0m\u001b[0;34m(\u001b[0m\u001b[0mx\u001b[0m\u001b[0;34m)\u001b[0m\u001b[0;34m\u001b[0m\u001b[0;34m\u001b[0m\u001b[0m\n",
                        "\u001b[0;32m~/anaconda3/lib/python3.9/site-packages/torch/nn/modules/module.py\u001b[0m in \u001b[0;36m_call_impl\u001b[0;34m(self, *input, **kwargs)\u001b[0m\n\u001b[1;32m   1128\u001b[0m         if not (self._backward_hooks or self._forward_hooks or self._forward_pre_hooks or _global_backward_hooks\n\u001b[1;32m   1129\u001b[0m                 or _global_forward_hooks or _global_forward_pre_hooks):\n\u001b[0;32m-> 1130\u001b[0;31m             \u001b[0;32mreturn\u001b[0m \u001b[0mforward_call\u001b[0m\u001b[0;34m(\u001b[0m\u001b[0;34m*\u001b[0m\u001b[0minput\u001b[0m\u001b[0;34m,\u001b[0m \u001b[0;34m**\u001b[0m\u001b[0mkwargs\u001b[0m\u001b[0;34m)\u001b[0m\u001b[0;34m\u001b[0m\u001b[0;34m\u001b[0m\u001b[0m\n\u001b[0m\u001b[1;32m   1131\u001b[0m         \u001b[0;31m# Do not call functions when jit is used\u001b[0m\u001b[0;34m\u001b[0m\u001b[0;34m\u001b[0m\u001b[0m\n\u001b[1;32m   1132\u001b[0m         \u001b[0mfull_backward_hooks\u001b[0m\u001b[0;34m,\u001b[0m \u001b[0mnon_full_backward_hooks\u001b[0m \u001b[0;34m=\u001b[0m \u001b[0;34m[\u001b[0m\u001b[0;34m]\u001b[0m\u001b[0;34m,\u001b[0m \u001b[0;34m[\u001b[0m\u001b[0;34m]\u001b[0m\u001b[0;34m\u001b[0m\u001b[0;34m\u001b[0m\u001b[0m\n",
                        "\u001b[0;32m~/anaconda3/lib/python3.9/site-packages/torch/nn/modules/module.py\u001b[0m in \u001b[0;36m_slow_forward\u001b[0;34m(self, *input, **kwargs)\u001b[0m\n\u001b[1;32m   1116\u001b[0m                 \u001b[0mrecording_scopes\u001b[0m \u001b[0;34m=\u001b[0m \u001b[0;32mFalse\u001b[0m\u001b[0;34m\u001b[0m\u001b[0;34m\u001b[0m\u001b[0m\n\u001b[1;32m   1117\u001b[0m         \u001b[0;32mtry\u001b[0m\u001b[0;34m:\u001b[0m\u001b[0;34m\u001b[0m\u001b[0;34m\u001b[0m\u001b[0m\n\u001b[0;32m-> 1118\u001b[0;31m             \u001b[0mresult\u001b[0m \u001b[0;34m=\u001b[0m \u001b[0mself\u001b[0m\u001b[0;34m.\u001b[0m\u001b[0mforward\u001b[0m\u001b[0;34m(\u001b[0m\u001b[0;34m*\u001b[0m\u001b[0minput\u001b[0m\u001b[0;34m,\u001b[0m \u001b[0;34m**\u001b[0m\u001b[0mkwargs\u001b[0m\u001b[0;34m)\u001b[0m\u001b[0;34m\u001b[0m\u001b[0;34m\u001b[0m\u001b[0m\n\u001b[0m\u001b[1;32m   1119\u001b[0m         \u001b[0;32mfinally\u001b[0m\u001b[0;34m:\u001b[0m\u001b[0;34m\u001b[0m\u001b[0;34m\u001b[0m\u001b[0m\n\u001b[1;32m   1120\u001b[0m             \u001b[0;32mif\u001b[0m \u001b[0mrecording_scopes\u001b[0m\u001b[0;34m:\u001b[0m\u001b[0;34m\u001b[0m\u001b[0;34m\u001b[0m\u001b[0m\n",
                        "\u001b[0;32m~/anaconda3/lib/python3.9/site-packages/torch/nn/modules/linear.py\u001b[0m in \u001b[0;36mforward\u001b[0;34m(self, input)\u001b[0m\n\u001b[1;32m    112\u001b[0m \u001b[0;34m\u001b[0m\u001b[0m\n\u001b[1;32m    113\u001b[0m     \u001b[0;32mdef\u001b[0m \u001b[0mforward\u001b[0m\u001b[0;34m(\u001b[0m\u001b[0mself\u001b[0m\u001b[0;34m,\u001b[0m \u001b[0minput\u001b[0m\u001b[0;34m:\u001b[0m \u001b[0mTensor\u001b[0m\u001b[0;34m)\u001b[0m \u001b[0;34m->\u001b[0m \u001b[0mTensor\u001b[0m\u001b[0;34m:\u001b[0m\u001b[0;34m\u001b[0m\u001b[0;34m\u001b[0m\u001b[0m\n\u001b[0;32m--> 114\u001b[0;31m         \u001b[0;32mreturn\u001b[0m \u001b[0mF\u001b[0m\u001b[0;34m.\u001b[0m\u001b[0mlinear\u001b[0m\u001b[0;34m(\u001b[0m\u001b[0minput\u001b[0m\u001b[0;34m,\u001b[0m \u001b[0mself\u001b[0m\u001b[0;34m.\u001b[0m\u001b[0mweight\u001b[0m\u001b[0;34m,\u001b[0m \u001b[0mself\u001b[0m\u001b[0;34m.\u001b[0m\u001b[0mbias\u001b[0m\u001b[0;34m)\u001b[0m\u001b[0;34m\u001b[0m\u001b[0;34m\u001b[0m\u001b[0m\n\u001b[0m\u001b[1;32m    115\u001b[0m \u001b[0;34m\u001b[0m\u001b[0m\n\u001b[1;32m    116\u001b[0m     \u001b[0;32mdef\u001b[0m \u001b[0mextra_repr\u001b[0m\u001b[0;34m(\u001b[0m\u001b[0mself\u001b[0m\u001b[0;34m)\u001b[0m \u001b[0;34m->\u001b[0m \u001b[0mstr\u001b[0m\u001b[0;34m:\u001b[0m\u001b[0;34m\u001b[0m\u001b[0;34m\u001b[0m\u001b[0m\n",
                        "\u001b[0;31mRuntimeError\u001b[0m: mat1 and mat2 shapes cannot be multiplied (5x1 and 5x5)"
                    ]
                }
            ],
            "source": [
                "writer.add_graph(model, input_to_model=[torch.randn(3, 1), torch.randn(2, 1)], verbose=False)"
            ]
        },
        {
            "cell_type": "code",
            "execution_count": 33,
            "id": "ca72a34f",
            "metadata": {},
            "outputs": [],
            "source": [
                "from enum import IntEnum\n",
                "\n",
                "class OrderedEnum(Enum):\n",
                "    def __ge__(self, other):\n",
                "        if self.__class__ is other.__class__:\n",
                "            return self.value >= other.value\n",
                "        return NotImplemented\n",
                "    def __gt__(self, other):\n",
                "        if self.__class__ is other.__class__:\n",
                "            return self.value > other.value\n",
                "        return NotImplemented\n",
                "    def __le__(self, other):\n",
                "        if self.__class__ is other.__class__:\n",
                "            return self.value <= other.value\n",
                "        return NotImplemented\n",
                "    def __lt__(self, other):\n",
                "        if self.__class__ is other.__class__:\n",
                "            return self.value < other.value\n",
                "        return NotImplemented\n",
                "\n",
                "class RCType(IntEnum):\n",
                "    TORCH = 3\n",
                "    CASADI = 2\n",
                "    NUMPY = 1\n",
                "\n",
                "\n",
                "TORCH = RCType.TORCH\n",
                "CASADI = RCType.CASADI\n",
                "NUMPY = RCType.NUMPY\n"
            ]
        },
        {
            "cell_type": "code",
            "execution_count": 34,
            "id": "9413006a",
            "metadata": {},
            "outputs": [
                {
                    "name": "stdout",
                    "output_type": "stream",
                    "text": [
                        "RCType.TORCH\n"
                    ]
                }
            ],
            "source": [
                "print(max(TORCH, 1))"
            ]
        },
        {
            "cell_type": "code",
            "execution_count": 31,
            "id": "dc6415e2",
            "metadata": {},
            "outputs": [
                {
                    "data": {
                        "text/plain": [
                            "3"
                        ]
                    },
                    "execution_count": 31,
                    "metadata": {},
                    "output_type": "execute_result"
                }
            ],
            "source": [
                "max(1,2,3)"
            ]
        },
        {
            "cell_type": "code",
            "execution_count": null,
            "id": "63f5a8de",
            "metadata": {},
            "outputs": [],
            "source": []
        }
    ],
    "metadata": {
        "kernelspec": {
            "display_name": "Python 3 (ipykernel)",
            "language": "python",
            "name": "python3"
        },
        "language_info": {
            "codemirror_mode": {
                "name": "ipython",
                "version": 3
            },
            "file_extension": ".py",
            "mimetype": "text/x-python",
            "name": "python",
            "nbconvert_exporter": "python",
            "pygments_lexer": "ipython3",
            "version": "3.9.7"
        }
    },
    "nbformat": 4,
    "nbformat_minor": 5
}